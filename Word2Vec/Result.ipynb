{
 "cells": [
  {
   "cell_type": "markdown",
   "metadata": {},
   "source": [
    "# Result"
   ]
  },
  {
   "cell_type": "markdown",
   "metadata": {},
   "source": [
    "## Trial 1 26/3/2024"
   ]
  },
  {
   "cell_type": "markdown",
   "metadata": {},
   "source": [
    "- vector size = 100\n",
    "- sg = 1\n",
    "- frac_pop = 1\n",
    "\n",
    "folder: vec_sz_100_sg_1_frac_pop_1\n",
    "\n",
    "W2V size = 90KB\n",
    "\n",
    "|Model name | Setting | F1 | Accuracy | Size|\n",
    "|-----------|----------|----|----------|------|\n",
    "|Decision tree | DEFAULT | 0.66 | 0.66| 19,000 KB|\n",
    "|Linear SVC | DEFAULT | 0.76 | 0.76 | 3KB |\n"
   ]
  }
 ],
 "metadata": {
  "language_info": {
   "name": "python"
  }
 },
 "nbformat": 4,
 "nbformat_minor": 2
}
